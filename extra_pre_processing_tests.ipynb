{
 "cells": [
  {
   "cell_type": "markdown",
   "id": "6d5fea3b-6821-4b2b-af3c-934643fbf767",
   "metadata": {},
   "source": [
    "# 1. Imports"
   ]
  },
  {
   "cell_type": "code",
   "execution_count": 1,
   "id": "f8b6746f-9cd9-4add-9027-6285ef7323d1",
   "metadata": {},
   "outputs": [
    {
     "name": "stderr",
     "output_type": "stream",
     "text": [
      "[nltk_data] Downloading package wordnet to\n",
      "[nltk_data]     C:\\Users\\Daniel\\AppData\\Roaming\\nltk_data...\n",
      "[nltk_data]   Package wordnet is already up-to-date!\n",
      "[nltk_data] Downloading package omw-1.4 to\n",
      "[nltk_data]     C:\\Users\\Daniel\\AppData\\Roaming\\nltk_data...\n",
      "[nltk_data]   Package omw-1.4 is already up-to-date!\n",
      "[nltk_data] Downloading package stopwords to\n",
      "[nltk_data]     C:\\Users\\Daniel\\AppData\\Roaming\\nltk_data...\n",
      "[nltk_data]   Package stopwords is already up-to-date!\n"
     ]
    }
   ],
   "source": [
    "import numpy as np\n",
    "import pandas as pd\n",
    "# scikit-learn\n",
    "from sklearn.feature_extraction.text import TfidfTransformer\n",
    "from sklearn.feature_extraction.text import CountVectorizer\n",
    "from sklearn.feature_extraction.text import TfidfVectorizer\n",
    "from sklearn.model_selection import train_test_split\n",
    "from sklearn.preprocessing import LabelEncoder\n",
    "# pip install nltk\n",
    "# pip install matplotlib\n",
    "import nltk\n",
    "import re\n",
    "from nltk.stem import PorterStemmer\n",
    "from sklearn.naive_bayes import GaussianNB\n",
    "from sklearn.naive_bayes import MultinomialNB\n",
    "from sklearn.neighbors import KNeighborsClassifier\n",
    "from sklearn.tree import DecisionTreeClassifier\n",
    "from sklearn import svm\n",
    "from sklearn.metrics import classification_report\n",
    "from nltk.sentiment import SentimentIntensityAnalyzer\n",
    "from sklearn.model_selection import RandomizedSearchCV\n",
    "from sklearn.metrics import classification_report, confusion_matrix, accuracy_score\n",
    "\n",
    "import random\n",
    "import string\n",
    "\n",
    "# Download necessary nltk data\n",
    "nltk.download('wordnet')\n",
    "nltk.download('omw-1.4')\n",
    "nltk.download('stopwords')\n",
    "from nltk.corpus import stopwords\n",
    "from nltk.corpus import wordnet\n",
    "\n",
    "random.seed(42)"
   ]
  },
  {
   "cell_type": "markdown",
   "id": "c2d27b08-9ac7-4bd5-b745-8a87d92664ee",
   "metadata": {},
   "source": [
    "# 2. Dataset Load"
   ]
  },
  {
   "cell_type": "code",
   "execution_count": 3,
   "id": "27062d93-7934-42b7-9105-7bce3103679e",
   "metadata": {},
   "outputs": [
    {
     "name": "stdout",
     "output_type": "stream",
     "text": [
      "                       title       from    genre       director  \\\n",
      "0               Ela Cheppanu     Telugu  romance         Ramana   \n",
      "1  A Nightmare on Elm Street   American   horror   Samuel Bayer   \n",
      "2            American Gothic   American   horror     John Hough   \n",
      "3                       Gang  Bollywood    crime    Mazhar Khan   \n",
      "4         Intimate Relations    British    drama  Charles Frank   \n",
      "\n",
      "                                                plot  \n",
      "0  Sekhar (Tarun) is a graduate from IIM and work...  \n",
      "1  Kris Fowles (Katie Cassidy) goes to the Spring...  \n",
      "2  Cynthia is traumatized by the death of her bab...  \n",
      "3  Four friends, Gangu (Jackie Shroff), Abdul (Na...  \n",
      "4  Crisis in a middle-class family when the son f...  \n",
      "(8041, 5)\n"
     ]
    }
   ],
   "source": [
    "# Add the dataset the sample_data folder (on the left side)\n",
    "# Define the column names based on the data format description\n",
    "columns = ['title', 'from', 'genre', 'director', 'plot']\n",
    "\n",
    "# Load the dataset\n",
    "file_path = 'train.txt'\n",
    "data = pd.read_csv(file_path, delimiter= \"\\t\", names=columns) # Check the separator\n",
    "\n",
    "# Inspect the first few rows\n",
    "print(data.head())\n",
    "print(data.shape)\n",
    "\n",
    "# Pre-processing dataset\n",
    "X_inicial = data['plot']  # Check if the appropriate collumn name is 'plot'\n",
    "\n",
    "y = data['genre']      # Check if the appropriate collumn name is 'genre'\n",
    "labels = np.unique(y).tolist()"
   ]
  },
  {
   "cell_type": "markdown",
   "id": "5571aa5d-236c-4dc8-84e1-84c0066e819a",
   "metadata": {
    "jp-MarkdownHeadingCollapsed": true
   },
   "source": [
    "## 2.1 Dataset Load - retain only ADJ and ADV"
   ]
  },
  {
   "cell_type": "code",
   "execution_count": null,
   "id": "5652bef7-31fe-4a20-bc72-85516d15624b",
   "metadata": {},
   "outputs": [],
   "source": [
    "# Ensure you have the necessary NLTK data\n",
    "nltk.download('punkt')\n",
    "nltk.download('averaged_perceptron_tagger')\n",
    "\n",
    "# Define the column names based on the data format description\n",
    "columns = ['title', 'from', 'genre', 'director', 'plot']\n",
    "\n",
    "# Load the dataset\n",
    "file_path = 'train.txt'\n",
    "data = pd.read_csv(file_path, delimiter=\"\\t\", names=columns)  # Ensure the correct separator\n",
    "\n",
    "# Inspect the first few rows\n",
    "print(data.head())\n",
    "print(data.shape)\n",
    "\n",
    "# Pre-processing dataset\n",
    "X_inicial = data['plot']  # Ensure the appropriate column name is 'plot'\n",
    "y = data['genre']         # Ensure the appropriate column name is 'genre'\n",
    "labels = np.unique(y).tolist()\n",
    "\n",
    "# Function to extract adjectives, adverbs, and keep punctuation like \"!\"\n",
    "def extract_adj_adv_punct(text):\n",
    "    # Tokenize text but keep punctuation\n",
    "    tokens = nltk.word_tokenize(text)\n",
    "    \n",
    "    # Get POS tags\n",
    "    pos_tags = nltk.pos_tag(tokens)\n",
    "    \n",
    "    # Filter adjectives (JJ), adverbs (RB), and exclamation marks (!)\n",
    "    adj_adv_words = [word for word, tag in pos_tags if tag.startswith('JJ') or tag.startswith('RB')]\n",
    "    \n",
    "    # Manually add punctuation to be retained\n",
    "    punct = re.findall(r'[!]', text)\n",
    "    \n",
    "    # Combine adjectives, adverbs, and punctuation\n",
    "    return ' '.join(adj_adv_words + punct)\n",
    "\n",
    "# Apply the function to extract adjectives, adverbs, and punctuation for each plot\n",
    "X_inicial_adj_adv_punct = X_inicial.apply(extract_adj_adv_punct)\n",
    "\n",
    "# Display the first few results\n",
    "print(X_inicial_adj_adv_punct.head())\n",
    "\n",
    "# Now X_inicial_adj_adv_punct contains only the adjectives, adverbs, and exclamation marks from each plot"
   ]
  },
  {
   "cell_type": "markdown",
   "id": "6a7bdd28-a8c0-4188-b335-02c359af9e73",
   "metadata": {
    "jp-MarkdownHeadingCollapsed": true
   },
   "source": [
    "## 2.2 Dataset Load - do sentiment analysis on each plot"
   ]
  },
  {
   "cell_type": "code",
   "execution_count": null,
   "id": "48fcc9e3-c9ca-40e2-8915-1a28ca2820c8",
   "metadata": {},
   "outputs": [],
   "source": [
    "from nltk.sentiment import SentimentIntensityAnalyzer\n",
    "import pandas as pd\n",
    "\n",
    "nltk.download('vader_lexicon')\n",
    "\n",
    "# Inicializar o analisador de sentimentos\n",
    "analyzer = SentimentIntensityAnalyzer()\n",
    "import pandas as pd\n",
    "from nltk.sentiment import SentimentIntensityAnalyzer\n",
    "\n",
    "# Define the column names based on your data\n",
    "columns = ['title', 'from', 'genre', 'director', 'plot']\n",
    "\n",
    "# Load the dataset\n",
    "file_path = 'train.txt'\n",
    "data = pd.read_csv(file_path, delimiter=\"\\t\", names=columns)\n",
    "\n",
    "# Check the first few rows and dataset shape\n",
    "print(data.head())\n",
    "print(data.shape)\n",
    "\n",
    "# Ensure you have the correct columns for plot (X) and genre (y)\n",
    "X_inicial = data['plot']\n",
    "y = data['genre']\n",
    "labels = np.unique(y).tolist()\n",
    "\n",
    "# Initialize the sentiment analyzer\n",
    "analyzer = SentimentIntensityAnalyzer()\n",
    "\n",
    "# Add a sentiment score (compound score) to each plot\n",
    "data['sentiment'] = data['plot'].apply(lambda x: analyzer.polarity_scores(str(x))['compound'])\n",
    "\n",
    "# Inspect the updated DataFrame with the new sentiment column\n",
    "print(data.head())"
   ]
  },
  {
   "cell_type": "markdown",
   "id": "0e78d7ac-debc-4882-b961-6bfc23177791",
   "metadata": {},
   "source": [
    "### 2.2.1 Average sentiment by genre"
   ]
  },
  {
   "cell_type": "code",
   "execution_count": 17,
   "id": "da921b07-2e44-43b3-9c64-dd7e8f09b958",
   "metadata": {},
   "outputs": [
    {
     "ename": "KeyError",
     "evalue": "'Column not found: sentiment'",
     "output_type": "error",
     "traceback": [
      "\u001b[1;31m---------------------------------------------------------------------------\u001b[0m",
      "\u001b[1;31mKeyError\u001b[0m                                  Traceback (most recent call last)",
      "Cell \u001b[1;32mIn[17], line 2\u001b[0m\n\u001b[0;32m      1\u001b[0m \u001b[38;5;66;03m# Group the data by genre and calculate the mean sentiment score for each genre\u001b[39;00m\n\u001b[1;32m----> 2\u001b[0m avg_sentiment_by_genre \u001b[38;5;241m=\u001b[39m data\u001b[38;5;241m.\u001b[39mgroupby(\u001b[38;5;124m'\u001b[39m\u001b[38;5;124mgenre\u001b[39m\u001b[38;5;124m'\u001b[39m)[\u001b[38;5;124m'\u001b[39m\u001b[38;5;124msentiment\u001b[39m\u001b[38;5;124m'\u001b[39m]\u001b[38;5;241m.\u001b[39mmean()\u001b[38;5;241m.\u001b[39mreset_index()\n\u001b[0;32m      4\u001b[0m \u001b[38;5;66;03m# Rename columns for clarity\u001b[39;00m\n\u001b[0;32m      5\u001b[0m avg_sentiment_by_genre\u001b[38;5;241m.\u001b[39mcolumns \u001b[38;5;241m=\u001b[39m [\u001b[38;5;124m'\u001b[39m\u001b[38;5;124mgenre\u001b[39m\u001b[38;5;124m'\u001b[39m, \u001b[38;5;124m'\u001b[39m\u001b[38;5;124maverage_sentiment\u001b[39m\u001b[38;5;124m'\u001b[39m]\n",
      "File \u001b[1;32m~\\anaconda3\\Lib\\site-packages\\pandas\\core\\groupby\\generic.py:1951\u001b[0m, in \u001b[0;36mDataFrameGroupBy.__getitem__\u001b[1;34m(self, key)\u001b[0m\n\u001b[0;32m   1944\u001b[0m \u001b[38;5;28;01mif\u001b[39;00m \u001b[38;5;28misinstance\u001b[39m(key, \u001b[38;5;28mtuple\u001b[39m) \u001b[38;5;129;01mand\u001b[39;00m \u001b[38;5;28mlen\u001b[39m(key) \u001b[38;5;241m>\u001b[39m \u001b[38;5;241m1\u001b[39m:\n\u001b[0;32m   1945\u001b[0m     \u001b[38;5;66;03m# if len == 1, then it becomes a SeriesGroupBy and this is actually\u001b[39;00m\n\u001b[0;32m   1946\u001b[0m     \u001b[38;5;66;03m# valid syntax, so don't raise\u001b[39;00m\n\u001b[0;32m   1947\u001b[0m     \u001b[38;5;28;01mraise\u001b[39;00m \u001b[38;5;167;01mValueError\u001b[39;00m(\n\u001b[0;32m   1948\u001b[0m         \u001b[38;5;124m\"\u001b[39m\u001b[38;5;124mCannot subset columns with a tuple with more than one element. \u001b[39m\u001b[38;5;124m\"\u001b[39m\n\u001b[0;32m   1949\u001b[0m         \u001b[38;5;124m\"\u001b[39m\u001b[38;5;124mUse a list instead.\u001b[39m\u001b[38;5;124m\"\u001b[39m\n\u001b[0;32m   1950\u001b[0m     )\n\u001b[1;32m-> 1951\u001b[0m \u001b[38;5;28;01mreturn\u001b[39;00m \u001b[38;5;28msuper\u001b[39m()\u001b[38;5;241m.\u001b[39m\u001b[38;5;21m__getitem__\u001b[39m(key)\n",
      "File \u001b[1;32m~\\anaconda3\\Lib\\site-packages\\pandas\\core\\base.py:244\u001b[0m, in \u001b[0;36mSelectionMixin.__getitem__\u001b[1;34m(self, key)\u001b[0m\n\u001b[0;32m    242\u001b[0m \u001b[38;5;28;01melse\u001b[39;00m:\n\u001b[0;32m    243\u001b[0m     \u001b[38;5;28;01mif\u001b[39;00m key \u001b[38;5;129;01mnot\u001b[39;00m \u001b[38;5;129;01min\u001b[39;00m \u001b[38;5;28mself\u001b[39m\u001b[38;5;241m.\u001b[39mobj:\n\u001b[1;32m--> 244\u001b[0m         \u001b[38;5;28;01mraise\u001b[39;00m \u001b[38;5;167;01mKeyError\u001b[39;00m(\u001b[38;5;124mf\u001b[39m\u001b[38;5;124m\"\u001b[39m\u001b[38;5;124mColumn not found: \u001b[39m\u001b[38;5;132;01m{\u001b[39;00mkey\u001b[38;5;132;01m}\u001b[39;00m\u001b[38;5;124m\"\u001b[39m)\n\u001b[0;32m    245\u001b[0m     ndim \u001b[38;5;241m=\u001b[39m \u001b[38;5;28mself\u001b[39m\u001b[38;5;241m.\u001b[39mobj[key]\u001b[38;5;241m.\u001b[39mndim\n\u001b[0;32m    246\u001b[0m     \u001b[38;5;28;01mreturn\u001b[39;00m \u001b[38;5;28mself\u001b[39m\u001b[38;5;241m.\u001b[39m_gotitem(key, ndim\u001b[38;5;241m=\u001b[39mndim)\n",
      "\u001b[1;31mKeyError\u001b[0m: 'Column not found: sentiment'"
     ]
    }
   ],
   "source": [
    "# Group the data by genre and calculate the mean sentiment score for each genre\n",
    "avg_sentiment_by_genre = data.groupby('genre')['sentiment'].mean().reset_index()\n",
    "\n",
    "# Rename columns for clarity\n",
    "avg_sentiment_by_genre.columns = ['genre', 'average_sentiment']\n",
    "\n",
    "# Display the result\n",
    "print(avg_sentiment_by_genre)"
   ]
  },
  {
   "cell_type": "markdown",
   "id": "5a796667-d363-496f-a3c9-d19c52ab5dab",
   "metadata": {},
   "source": [
    "# 3. Pre-Processing"
   ]
  },
  {
   "cell_type": "markdown",
   "id": "1f37e71a-c666-4c14-969f-f3e853c956ad",
   "metadata": {
    "jp-MarkdownHeadingCollapsed": true
   },
   "source": [
    "## 3.0 No Pre-Processing"
   ]
  },
  {
   "cell_type": "code",
   "execution_count": null,
   "id": "ff577244-3d16-4659-b87f-5c688406b670",
   "metadata": {},
   "outputs": [],
   "source": [
    "# If you don't want to apply any pre-processing: run this!!\n",
    "X_process = X_inicial\n",
    "y_process = y "
   ]
  },
  {
   "cell_type": "markdown",
   "id": "73a2be25-4200-4f58-8619-197d6c0da22b",
   "metadata": {
    "jp-MarkdownHeadingCollapsed": true
   },
   "source": [
    "## 3.1 Remove Punctuation"
   ]
  },
  {
   "cell_type": "code",
   "execution_count": null,
   "id": "372825ce-8e3f-4649-abdb-4fb1ef2b34ec",
   "metadata": {},
   "outputs": [],
   "source": [
    "# if any pre-processing came first: run this!!!\n",
    "X_inicial = X_process\n",
    "y = y_process"
   ]
  },
  {
   "cell_type": "code",
   "execution_count": 5,
   "id": "9678ad95-d22d-4f51-9fd8-5292abd0670a",
   "metadata": {},
   "outputs": [
    {
     "name": "stdout",
     "output_type": "stream",
     "text": [
      "['Sekhar Tarun is a graduate from IIM and works as a business manager in a firm in Hyderabad He meets Amar Varma Siva Balaji in a business party who runs a company named Varma Industries in Germany When the party is over Sekhar accidentally kills Amar with his car Sekhars friend Sunil Sunil saves him by erasing the evidence but Sekhar feels guilty even after six months He goes to Germany along with Sunil to visit Amars family They find that their business is in a bad condition and want to help them by reviving it with his business skills Priya Shriya who was engaged to Amar earlier is trying her level best to run the business but helpless to run it smoothly Sekhar introduces himself to Priya and offer his help to revive the business The remaining story is about how Sekhar helps the business grow and win Priyas heart in that process', 'Kris Fowles Katie Cassidy goes to the Springwood Diner to meet with her exboyfriend Dean Russell Kellan Lutz who falls asleep at the table and meets a man covered in burn scars wearing a clawed glove on his hand The burned man cuts Deans throat in the dream but in reality it appears that Dean is cutting his own throat as his friend waitress Nancy Holbrook Rooney Mara looks on with Kris At Deans funeral Kris sees a photograph of her and Dean as children but cannot recall ever knowing Dean before high school Kris begins to dream about the burned man herself and refuses to go to sleep for fear that she will die in her dreams Jesse Braun Thomas Dekker Kriss exboyfriend shows up to keep her company while she sleeps but Kris meets the burned man in her dreams and is murdered Covered in her blood Jesse runs to Nancys house and learns that Nancy has been having dreams about the same man Freddy Krueger Jackie Earle Haley Jesse is apprehended by the police under suspicion of murdering Kris and is killed by Krueger when he falls asleep in his jail cell With her friends dying Nancy begins to question what everyones connection is to each other given that none of them can remember each other before their teenage years Nancy and her friend Quentin Smith Kyle Gallner discover that all of them attended Badham Preschool Nancys mother Gwen Connie Britton reluctantly tells Nancy and Quentin that there was a gardener at the preschool Fred Krueger who was accused of abusing Nancy and the rest of the kids Gwen explains that Nancy was his favorite and that she came home one day telling her mother about a hidden space in Kruegers room and the things he did to her there Gwen claims Krueger skipped town before he was arrested Nancy does not believe her and attempts to track down the remaining kids from the school She discovers that all of the other kids have been killed most of them in their sleep Quentin tries to accept that his nightmares are nothing more than repressed memories but he falls asleep during swim practice and witnesses what really happened to Krueger Everyones parents hunted down Krueger and burned him alive Quentin and Nancy believe that Krueger wants revenge on them for lying as children As a result of their insomnia they begin sporadically dreaming while they are still awake To try to stop Krueger they decide to go to the preschool and learn what they can On the way Nancy falls asleep and is attacked by Krueger but when Quentin wakes her up they discover she has pulled a piece of Kruegers sweater out of the dreamworld and into reality Quentin takes Nancy to the hospital there he steals some adrenaline to help them stay awake At the preschool Quentin uncovers Kruegers hidden room and evidence that proves Krueger was in fact abusing all of the children Krueger actually wants revenge on them for telling the truth Nancy decides the only way to end this is to pull Krueger out of their dreams and kill him in reality Quentin tries to stay awake long enough to pull Nancy out of her dream when she has Krueger but he falls asleep and is attacked Krueger goes after Nancy and explains that he intentionally left her for last so she would stay awake long enough that when she finally fell asleep she would no longer be able to wake up Quentin uses the adrenaline to wake up Nancy who pulls Krueger into reality She uses a broken blade to cut Kruegers gloved hand off and then slice his throat She then torches the secret room with Kruegers body inside and she and Quentin leave Nancy and her mother return home from the hospital Krueger suddenly appears and kills Nancys mother before pulling her body through a mirror while Nancy screams', 'Cynthia is traumatized by the death of her baby after leaving him in a bathtub where he accidentally drowned She and five of her friends Jeff Rob Lynn Paul and Terri decide to go on a vacation They take a plane somewhere but are plagued by engine troubles and are forced to land the plane on a lonely deserted island The six set camp and the next morning Paul stays at the camp while the others set off to find help They come upon a large cottage nestled in the woods After entering the cottage and fooling around a bit they meet the owners an elderly married couple going by the simple names of Ma and Pa The group of friends are welcomed to spend the night At dinner Lynn starts smoking and Pa scolds her and demands that she smoke outside Later Lynn and Cynthia discover Ma and Pa have a child Fanny who looks more like a middleaged woman but claims she is 12 That night Ma and Pa throw more strict rules in such as no cussing and forcing the girls and boys apart to prevent premarital sex The night passes by and the next morning Rob goes for a walk and finds Fanny pushing her brother Woody on a crudely crafted swing Rob is invited to swing and agrees only for Woody to climb to the top and chop the rope sending Rob down the rocky cliff below to his death The group finds out about Robs death and mourn his loss Later Lynn and Cynthia are outside and Lynn talks about how this family is a bunch of freaks and Fanny overhears Cynthia sees this after Lynn leaves and consoles Fanny and reluctantly agrees to play games with Fanny Fanny shows Cynthia her baby thought to be just a doll but it turns out to be the remains of an infant Cynthia meets another brother Teddy and Fanny explains to him that Cynthia is her friend Meanwhile Lynn stumbles upon Woody Teddy and Fanny playing jump rope in the woods After Lynn insults them she is attacked and presumably killed by the three Cynthia tells Jeff about the mummified infant Jeff tries to console Cynthia and they kiss Fanny who wants Jeff to herself sees and becomes jealous She confronts the two and kills Jeff by stabbing him in the eye with a sword on a knight statue Cynthia explains her fear to Ma but Ma attacks her saying they are all wicked people Cynthia flees and Ma finishes Jeff off with her sewing needles Cynthia runs into the woods finding Lynns corpse hanging from a tree and a frightened Terri Cynthia explains everything to Terri and learns that Paul and the plane are missing Woody and Teddy find the girls and chase them into the woods Terri and Cynthia find Fanny and Terri reveals a gun and holds Fanny at gunpoint forcing her to help them get off the island They show Fanny to Ma and Pa and demand their help to get off the island To save his daughter Pa tells the girls where a boat is He leads them to a dinky fishermans boat where Pauls corpse is lying an axe buried in his skull Cynthia and Terri flee and Teddy and Woody light Pauls body on fire Night comes and Terri and Cynthia spend the night in a hollow tree Terri and Cynthia run back to the cottage to find a radio but are attacked by Woody and Teddy Teddy pursues Terri into the woods and Fanny toys with Cynthia Terri is caught by Teddy and has her neck snapped Teddy rapes Terris corpse Woody tattletales and Teddy gets a beating as Cynthia watches in horror Cynthia eventually breaks down and pretends to be one of the family celebrating Fannys birthday and dressing in a pink gown to match Fanny However the flashbacks of her baby drowning get to her she goes mad bludgeoning Fanny to death with a metal washtub She then murders Woody with the sword She then confronts Ma and stabs her to death with her sewing needles She finds Teddy and stabs him with a sickle Pa discovers his family dead and goes outside only to be shot by his own shotgun by Cynthia who has taken revenge and killed the demented family The film ends as Cynthia goes upstairs sits in Fannys room and slowly begins rocking the cradle singing a soft lullaby', 'Four friends Gangu Jackie Shroff Abdul Nana Patekar Nihal Kumar Gaurav and Gary Jaaved Jaffrey which forms the word GANG get together to start their crime business but their roots are built on friendship and trust They succeed in their criminal goals but later they are attacked by a local gangster Tagdu Gulshan Grover As a result GANG retaliate with Tagdu and joins with Lala Mukesh Khanna a criminal with a conscience But this does not pleases Abdul as they work for free with Lala and decides to join forces with Girja Singh Imtiaz Khan for money to which Gangu disagrees Garys sister is later killed by Tagdus men as a form of early humiliation which shatters them deeply Later GANG and Tagdus men are embroiled in a gang war in which Gangu is arrested and sentenced to jail for five years When Gangu is released he witnesses that Abdul is now driving a taxi his mother is well looked after and that Nihal and Gary have also started doing business It is when Gangu meets his sweetheart Sanam Juhi Chawla and proposes marriage and subsequently learns that his friends are working with Girja Singh Nihal and Divya Ektaa Sohini marriage begins to fall apart as their child is born handicapped due to the formers drug addiction and later Divya commits suicide with her child This incident shatters Nihal and goes on a murder spree for which he is arrested Girja orders Abdul to kill Nihal before he gives the statement against him to the court but Abdul indebted towards their friendship kills Girja men instead of Nihal Finally Abdul and Gary decides to surrender to police for sake of Gangu and seeks help of chief minister Raza Murad But this displeases the latter as if they are arrested they will even testify against him so he plans to murder the GANG with help of Girja and Tagdu Tagdu kills Gangus mother in order to weaken the team but GANG finishes the ministers men including Tagdu and Girja In the process Gangu is severely injured and is on deathbed and asks them for promise to leave crime world forever to which all agree and Gangu dies after The GANG is about to surrender to the police till the point where the minister orders the police for shoot to kill and kills the team', 'Crisis in a middleclass family when the son falls in love with his fathers mistress Family ties are stretched to breaking point and the mother fears shell lose her son as well as her husband', 'Scarlett Tatum ONeal is a hardened street kid who supports herself with prostitution and drug dealing Facing charges of killing a client Scarlett is brought to court At court she briefly encounters Tracy Freeman Irene Cara Tracy a doctors daughter has been arrested for drug possession and resisting arrest Tracy admits to using racial slurs against the white officer who arrested her implying that he also used racial slurs toward her The two are seated in front of a judge along with other criminal defendants One of the other defendants begins acting out in front of the judge When the judge orders the bailiff to restrain her the defendant slashes the bailiffs throat with a concealed weapon Another defendant disarms another bailiff and a shootout begins Scarlett and Tracy along with all the others in the courtroom escape The police not knowing that Scarlett and Tracy were not involved in the shooting pursue them The two girls eventually take refuge in the sewer Tracy wants to turn back Scarlett on the other hand refuses convinced that they will be blamed and wanting to avoid prosecution for her crimes She bullies Tracy into continuing Meanwhile Tracys father Dr Freeman Moses Gunn unsuccessfully tries to convince Lt Speier George Murdock that his daughter wasnt involved in the shooting The police officer then tells Dr Freeman that seven people were killed in the shootout A lone police officer manages to capture Scarlett and Tracy in the sewer While waiting for backup the police officer lights a cigarette and inadvertently sparks an explosion of sewer gas Tracy attempts to save the officer but he drowns Once again Tracy urges that they give themselves up Scarlett again refuses telling Tracy that police officers are inclined to kill people suspected of killing police officers She also inadvertently admits to being illiterate The girls emerge from the sewer The two hail a cab to the derelict section of town Scarlett attempts to ditch Tracy Tracy refuses to be left as she does not know where she is and is unwilling to call her father for help Scarlett threatens Tracy with a broken bottle and insults Tracy with a racial slur Tracy slams Scarlett into a wall and insists that Scarlett help her find a place to clean herself up Scarlett takes her to the apartment of Sniffer Nicholas Campbell a casual boyfriend of hers who produces pornography and sells drugs Scarlett convinces Sniffer to allow Tracy to shower While Tracy bathes Scarlett and Sniffer argue with Sniffer admitting to having set her up with the man that she was accused of killing Scarlett then tries to convince Sniffer to run off with her Sniffer becomes angry pulls a knife on Scarlett and throws her out of his apartment Sniffer then attempts to rape Tracy in the shower She fights him off rendering him unconscious Scarlett then goes to yet another boyfriend Rodney Peter Fonda seeking help Not only does he refuse he ends up slicing her face with a knife Meanwhile Lt Speier makes an arrangement with Rodney if he assists in Scarlett and Tracys apprehension four of his criminal associates will be released from jail At this point Rodney sends a few of his henchmen to Sniffers apartment Scarlett then returns to Sniffers apartment where she is confronted by an angry Tracy who has found a gun in the apartment Scarlett falsely accuses Sniffer of cutting her face and steals Sniffers drugs Scarlett then urges Tracy to flee with her At this point Rodneys henchmen show up They shoot into the door while Scarlett and Tracy flee with Sniffer Rodneys henchmen and the police on their trail The two girls end up in a drug den an abandoned warehouse where Scarlett attempts to sell the drugs she stole from Sniffer While Scarlett negotiates a drug deal an exhausted Tracy lies down and attempts to sleep Sniffer who has trailed the girls to the drug den comes upon Tracy and injects her with drugs Outside Rodneys henchman set fire to the drug den as they are unwilling to enter Scarlett successfully negotiates the deal and encounters a gunwielding Sniffer The two fight as the fire begins to burn Sniffer eventually burns to death in the fire Scarlett rescues a drug addled Tracy from the warehouse before it is consumed by the fire The girls take refuge in a junk yard Scarlett goes out to get food for the two of them while Tracy recovers from her high Having stolen a newspaper Scarlett has Tracy read the headline proclaiming their deaths to her The girls rejoice in their new found freedom Tracy then suggests that she and Scarlett run to the mountains seek employment as waitresses and set up house together Scarlett reluctantly refuses and the girls argue The two part ways At that moment the police who had the newspaper headline published as a ruse and Tracys father arrive on the scene Scarlett is shot as she attempts to flee but is not seriously injured The girls then pledge to stick together even if it kills us', 'In 1630s New England a man named William is banished from a Puritan plantation alongside his wife Katherine daughter Thomasin son Caleb and fraternal twins Mercy and Jonas due to a difference in interpretation of the New Testament The family leaves the plantation and builds a farm by the edge of a large secluded forest far from the Puritan settlement Katherine soon gives birth to her fifth child Samuel Thomasin is playing peekaboo with Samuel when he abruptly disappears Samuel is then revealed to the viewer but not to his family to have been kidnapped by a witch who crushes his body to pulp and uses it to make a flying ointment6 Katherine devastated spends her days crying and praying William takes Caleb hunting in the forest and confides to his son that he traded Katherines silver cup for hunting supplies On the farm the twins play with the familys goat Black Phillip claiming that he speaks to them That night Katherine questions Thomasin about the disappearance of her silver cup while implying Thomasin was responsible for the disappearance of Samuel After the children retire to bed they overhear their parents discussing sending Thomasin away to serve another family Early the next morning Thomasin finds Caleb preparing to hunt in the forest She forces Caleb to take her with him by threatening to awaken their father Their dog gives chase to a hare and Caleb follows on foot as the horse throws Thomasin off knocking her unconscious Caleb becomes lost in the woods and eventually stumbles upon the disemboweled corpse of his dog He later discovers a mosscovered hovel A seductive young woman appears at the door and lures Caleb towards her Meanwhile Thomasin awakens and reunites with her father who is searching for her and Caleb Katherine confronts Thomasin about taking Caleb into the woods and William reluctantly admits that he sold Katherines silver cup That night Caleb is found outside in the rain naked and delirious from an unknown illness Katherine suggests that her sons mysterious ailment is due to witchcraft and prays over him The next day Caleb suffers a violent seizure and expels a small apple from his mouth before dying As Caleb nears death his parents and Thomasin kneel reciting the Lords Prayer which causes great distress to the twins who insist they cannot remember the words and implore the others to stop The twins then accuse Thomasin of witchcraft and in retaliation she reveals their conversations with Black Phillip Enraged William boards both Thomasin and the twins inside the goat house After dark the twins and Thomasin awaken to find a hideous naked old woman drinking a white goats blood Meanwhile Katherine is overjoyed by a vision of Caleb and Samuels return She begins breastfeeding the infant which is revealed to be a black raven pecking at her exposed and bloody breast The next day William finds the stable destroyed the goats eviscerated the twins missing and an unconscious Thomasin lying nearby with bloodstained hands As Thomasin awakens Black Phillip gores William before her eyes William dying picks up an axe and contemplates killing the goat but resigns himself to death and quotes from the Book of Job before being knocked into a woodpile The commotion awakens the unhinged Katherine who now blames Thomasin for the tragedies that have beset the family and tries to strangle her Thomasin grabs a nearby billhook and kills her in selfdefense Night falls and Thomasin in desperation urges Black Phillip to speak to her The goat responds in human tongue and suddenly transforms into a man He convinces her to sign her name in his book guiding her hand as she does so and offering her the sights of the world and the luxurious life she wants to live Thomasin wanders naked into the forest with Black Phillip again incarnated as a goat where she discovers a coven of witches dancing around a bonfire The witches begin to levitate and a laughing Thomasin joins them above the trees', 'Kushi Radhika Pandit Pratham Tarun and Sharan attend an interview where all the 3 are selected Pratham starts loving Kushi and proposes her but everyone thinks he was trying to fool her as it was 1 April Later she marries her boss Abhi Dilip Raj not knowing that Pratham is in love with her At her wedding reception Pratham gives her a rose and announces in front of all that he loves her But Kushi and Abhi ignore the incident as they think that he wants to give a shock to them But he continues to pine for Kushi and finally quits his job much to Kushis dismay When another woman enters his life the heartbroken Pratham decides to start life afresh', 'Nick Dunn a used car salesman cant close a deal with customers Karen Winter and Arthur Markel so he is fired A sympathetic Markel has a car lot of his own and offers a job to Nick who quits after discovering Markels disreputable sales methods Nick and wife Jane have a financial dilemma when their son falls ill Swallowing his pride Nick asks for his job back with Markel who promotes him to manager But the criminal activity continues until Nick becomes convinced that Markel has even ordered his henchman Smiley Ward to murder Davenport a detective Jane is appalled by Nicks new line of work He seeks solace in the company of the beautiful Karen but when the cops come to investigate Davenports death Karen refuses to give Nick an alibi Now a suspect he tracks down Ward who during their struggle at an amusement park falls from a roller coaster to his death Nick tries to explain the hotcar racket to the police implicating Karen and Markel', 'During the Second World War Jimmy Bancroft Niall MacGinnis a fighter pilot just released from hospital and his nurse now his girlfriend Hazel Broome Rosamund John are on a walking tour through the countryside They arrive at the fictional village of Lipsbury Lea and being keen birdwatchers discover that a pair of tawny pipits which are rarely seen in England are nesting nearby Staying in the village they enlist the locals to protect the nesting site until the eggs hatch The villagers do so with great enthusiasm led by the fiery retired Colonel BartonBarrington Bernard Miles and the Reverend Mr Kingsley Unfortunately the field where the nest is located known locally as the pinfold is due to be ploughed up by order of the countys War Agricultural Executive Committee the War Ag and a delegation to the Ministry of Agriculture in London fails to get the order rescinded Fortunately the Minister was BartonBarringtons fag at his public school Marlborough and personally intervenes to save the field from being ploughed The eggs duly hatch but not before a plot to steal them on behalf of an unscrupulous dealer is foiled by an alert army corporal a professional ornithologist who is serving nearby']\n"
     ]
    }
   ],
   "source": [
    "def remove_punctuation_from_texts(X):\n",
    "    # Translation table to remove punctuation\n",
    "    translator = str.maketrans('', '', string.punctuation)\n",
    "    \n",
    "    # Remove punctuation from each text in X\n",
    "    X_cleaned = [text.translate(translator) for text in X]\n",
    "    \n",
    "    return X_cleaned\n",
    "\n",
    "X_process = remove_punctuation_from_texts(X_inicial)\n",
    "y_process = y\n",
    "print(X_process[:10])"
   ]
  },
  {
   "cell_type": "markdown",
   "id": "8615acf9-835d-4eb3-9cce-10430c29b37f",
   "metadata": {
    "jp-MarkdownHeadingCollapsed": true
   },
   "source": [
    "## 3.2 Lowercasing"
   ]
  },
  {
   "cell_type": "code",
   "execution_count": 7,
   "id": "241be9de-abf5-45ec-b8f3-81f8f74fbdb4",
   "metadata": {},
   "outputs": [],
   "source": [
    "# if any preprocessing came first: run this!!!\n",
    "X_inicial = X_process\n",
    "y = y_process"
   ]
  },
  {
   "cell_type": "code",
   "execution_count": 9,
   "id": "99e6c16c-f8ec-4517-8598-678587443526",
   "metadata": {},
   "outputs": [
    {
     "name": "stdout",
     "output_type": "stream",
     "text": [
      "['sekhar tarun is a graduate from iim and works as a business manager in a firm in hyderabad he meets amar varma siva balaji in a business party who runs a company named varma industries in germany when the party is over sekhar accidentally kills amar with his car sekhars friend sunil sunil saves him by erasing the evidence but sekhar feels guilty even after six months he goes to germany along with sunil to visit amars family they find that their business is in a bad condition and want to help them by reviving it with his business skills priya shriya who was engaged to amar earlier is trying her level best to run the business but helpless to run it smoothly sekhar introduces himself to priya and offer his help to revive the business the remaining story is about how sekhar helps the business grow and win priyas heart in that process', 'kris fowles katie cassidy goes to the springwood diner to meet with her exboyfriend dean russell kellan lutz who falls asleep at the table and meets a man covered in burn scars wearing a clawed glove on his hand the burned man cuts deans throat in the dream but in reality it appears that dean is cutting his own throat as his friend waitress nancy holbrook rooney mara looks on with kris at deans funeral kris sees a photograph of her and dean as children but cannot recall ever knowing dean before high school kris begins to dream about the burned man herself and refuses to go to sleep for fear that she will die in her dreams jesse braun thomas dekker kriss exboyfriend shows up to keep her company while she sleeps but kris meets the burned man in her dreams and is murdered covered in her blood jesse runs to nancys house and learns that nancy has been having dreams about the same man freddy krueger jackie earle haley jesse is apprehended by the police under suspicion of murdering kris and is killed by krueger when he falls asleep in his jail cell with her friends dying nancy begins to question what everyones connection is to each other given that none of them can remember each other before their teenage years nancy and her friend quentin smith kyle gallner discover that all of them attended badham preschool nancys mother gwen connie britton reluctantly tells nancy and quentin that there was a gardener at the preschool fred krueger who was accused of abusing nancy and the rest of the kids gwen explains that nancy was his favorite and that she came home one day telling her mother about a hidden space in kruegers room and the things he did to her there gwen claims krueger skipped town before he was arrested nancy does not believe her and attempts to track down the remaining kids from the school she discovers that all of the other kids have been killed most of them in their sleep quentin tries to accept that his nightmares are nothing more than repressed memories but he falls asleep during swim practice and witnesses what really happened to krueger everyones parents hunted down krueger and burned him alive quentin and nancy believe that krueger wants revenge on them for lying as children as a result of their insomnia they begin sporadically dreaming while they are still awake to try to stop krueger they decide to go to the preschool and learn what they can on the way nancy falls asleep and is attacked by krueger but when quentin wakes her up they discover she has pulled a piece of kruegers sweater out of the dreamworld and into reality quentin takes nancy to the hospital there he steals some adrenaline to help them stay awake at the preschool quentin uncovers kruegers hidden room and evidence that proves krueger was in fact abusing all of the children krueger actually wants revenge on them for telling the truth nancy decides the only way to end this is to pull krueger out of their dreams and kill him in reality quentin tries to stay awake long enough to pull nancy out of her dream when she has krueger but he falls asleep and is attacked krueger goes after nancy and explains that he intentionally left her for last so she would stay awake long enough that when she finally fell asleep she would no longer be able to wake up quentin uses the adrenaline to wake up nancy who pulls krueger into reality she uses a broken blade to cut kruegers gloved hand off and then slice his throat she then torches the secret room with kruegers body inside and she and quentin leave nancy and her mother return home from the hospital krueger suddenly appears and kills nancys mother before pulling her body through a mirror while nancy screams', 'cynthia is traumatized by the death of her baby after leaving him in a bathtub where he accidentally drowned she and five of her friends jeff rob lynn paul and terri decide to go on a vacation they take a plane somewhere but are plagued by engine troubles and are forced to land the plane on a lonely deserted island the six set camp and the next morning paul stays at the camp while the others set off to find help they come upon a large cottage nestled in the woods after entering the cottage and fooling around a bit they meet the owners an elderly married couple going by the simple names of ma and pa the group of friends are welcomed to spend the night at dinner lynn starts smoking and pa scolds her and demands that she smoke outside later lynn and cynthia discover ma and pa have a child fanny who looks more like a middleaged woman but claims she is 12 that night ma and pa throw more strict rules in such as no cussing and forcing the girls and boys apart to prevent premarital sex the night passes by and the next morning rob goes for a walk and finds fanny pushing her brother woody on a crudely crafted swing rob is invited to swing and agrees only for woody to climb to the top and chop the rope sending rob down the rocky cliff below to his death the group finds out about robs death and mourn his loss later lynn and cynthia are outside and lynn talks about how this family is a bunch of freaks and fanny overhears cynthia sees this after lynn leaves and consoles fanny and reluctantly agrees to play games with fanny fanny shows cynthia her baby thought to be just a doll but it turns out to be the remains of an infant cynthia meets another brother teddy and fanny explains to him that cynthia is her friend meanwhile lynn stumbles upon woody teddy and fanny playing jump rope in the woods after lynn insults them she is attacked and presumably killed by the three cynthia tells jeff about the mummified infant jeff tries to console cynthia and they kiss fanny who wants jeff to herself sees and becomes jealous she confronts the two and kills jeff by stabbing him in the eye with a sword on a knight statue cynthia explains her fear to ma but ma attacks her saying they are all wicked people cynthia flees and ma finishes jeff off with her sewing needles cynthia runs into the woods finding lynns corpse hanging from a tree and a frightened terri cynthia explains everything to terri and learns that paul and the plane are missing woody and teddy find the girls and chase them into the woods terri and cynthia find fanny and terri reveals a gun and holds fanny at gunpoint forcing her to help them get off the island they show fanny to ma and pa and demand their help to get off the island to save his daughter pa tells the girls where a boat is he leads them to a dinky fishermans boat where pauls corpse is lying an axe buried in his skull cynthia and terri flee and teddy and woody light pauls body on fire night comes and terri and cynthia spend the night in a hollow tree terri and cynthia run back to the cottage to find a radio but are attacked by woody and teddy teddy pursues terri into the woods and fanny toys with cynthia terri is caught by teddy and has her neck snapped teddy rapes terris corpse woody tattletales and teddy gets a beating as cynthia watches in horror cynthia eventually breaks down and pretends to be one of the family celebrating fannys birthday and dressing in a pink gown to match fanny however the flashbacks of her baby drowning get to her she goes mad bludgeoning fanny to death with a metal washtub she then murders woody with the sword she then confronts ma and stabs her to death with her sewing needles she finds teddy and stabs him with a sickle pa discovers his family dead and goes outside only to be shot by his own shotgun by cynthia who has taken revenge and killed the demented family the film ends as cynthia goes upstairs sits in fannys room and slowly begins rocking the cradle singing a soft lullaby', 'four friends gangu jackie shroff abdul nana patekar nihal kumar gaurav and gary jaaved jaffrey which forms the word gang get together to start their crime business but their roots are built on friendship and trust they succeed in their criminal goals but later they are attacked by a local gangster tagdu gulshan grover as a result gang retaliate with tagdu and joins with lala mukesh khanna a criminal with a conscience but this does not pleases abdul as they work for free with lala and decides to join forces with girja singh imtiaz khan for money to which gangu disagrees garys sister is later killed by tagdus men as a form of early humiliation which shatters them deeply later gang and tagdus men are embroiled in a gang war in which gangu is arrested and sentenced to jail for five years when gangu is released he witnesses that abdul is now driving a taxi his mother is well looked after and that nihal and gary have also started doing business it is when gangu meets his sweetheart sanam juhi chawla and proposes marriage and subsequently learns that his friends are working with girja singh nihal and divya ektaa sohini marriage begins to fall apart as their child is born handicapped due to the formers drug addiction and later divya commits suicide with her child this incident shatters nihal and goes on a murder spree for which he is arrested girja orders abdul to kill nihal before he gives the statement against him to the court but abdul indebted towards their friendship kills girja men instead of nihal finally abdul and gary decides to surrender to police for sake of gangu and seeks help of chief minister raza murad but this displeases the latter as if they are arrested they will even testify against him so he plans to murder the gang with help of girja and tagdu tagdu kills gangus mother in order to weaken the team but gang finishes the ministers men including tagdu and girja in the process gangu is severely injured and is on deathbed and asks them for promise to leave crime world forever to which all agree and gangu dies after the gang is about to surrender to the police till the point where the minister orders the police for shoot to kill and kills the team', 'crisis in a middleclass family when the son falls in love with his fathers mistress family ties are stretched to breaking point and the mother fears shell lose her son as well as her husband', 'scarlett tatum oneal is a hardened street kid who supports herself with prostitution and drug dealing facing charges of killing a client scarlett is brought to court at court she briefly encounters tracy freeman irene cara tracy a doctors daughter has been arrested for drug possession and resisting arrest tracy admits to using racial slurs against the white officer who arrested her implying that he also used racial slurs toward her the two are seated in front of a judge along with other criminal defendants one of the other defendants begins acting out in front of the judge when the judge orders the bailiff to restrain her the defendant slashes the bailiffs throat with a concealed weapon another defendant disarms another bailiff and a shootout begins scarlett and tracy along with all the others in the courtroom escape the police not knowing that scarlett and tracy were not involved in the shooting pursue them the two girls eventually take refuge in the sewer tracy wants to turn back scarlett on the other hand refuses convinced that they will be blamed and wanting to avoid prosecution for her crimes she bullies tracy into continuing meanwhile tracys father dr freeman moses gunn unsuccessfully tries to convince lt speier george murdock that his daughter wasnt involved in the shooting the police officer then tells dr freeman that seven people were killed in the shootout a lone police officer manages to capture scarlett and tracy in the sewer while waiting for backup the police officer lights a cigarette and inadvertently sparks an explosion of sewer gas tracy attempts to save the officer but he drowns once again tracy urges that they give themselves up scarlett again refuses telling tracy that police officers are inclined to kill people suspected of killing police officers she also inadvertently admits to being illiterate the girls emerge from the sewer the two hail a cab to the derelict section of town scarlett attempts to ditch tracy tracy refuses to be left as she does not know where she is and is unwilling to call her father for help scarlett threatens tracy with a broken bottle and insults tracy with a racial slur tracy slams scarlett into a wall and insists that scarlett help her find a place to clean herself up scarlett takes her to the apartment of sniffer nicholas campbell a casual boyfriend of hers who produces pornography and sells drugs scarlett convinces sniffer to allow tracy to shower while tracy bathes scarlett and sniffer argue with sniffer admitting to having set her up with the man that she was accused of killing scarlett then tries to convince sniffer to run off with her sniffer becomes angry pulls a knife on scarlett and throws her out of his apartment sniffer then attempts to rape tracy in the shower she fights him off rendering him unconscious scarlett then goes to yet another boyfriend rodney peter fonda seeking help not only does he refuse he ends up slicing her face with a knife meanwhile lt speier makes an arrangement with rodney if he assists in scarlett and tracys apprehension four of his criminal associates will be released from jail at this point rodney sends a few of his henchmen to sniffers apartment scarlett then returns to sniffers apartment where she is confronted by an angry tracy who has found a gun in the apartment scarlett falsely accuses sniffer of cutting her face and steals sniffers drugs scarlett then urges tracy to flee with her at this point rodneys henchmen show up they shoot into the door while scarlett and tracy flee with sniffer rodneys henchmen and the police on their trail the two girls end up in a drug den an abandoned warehouse where scarlett attempts to sell the drugs she stole from sniffer while scarlett negotiates a drug deal an exhausted tracy lies down and attempts to sleep sniffer who has trailed the girls to the drug den comes upon tracy and injects her with drugs outside rodneys henchman set fire to the drug den as they are unwilling to enter scarlett successfully negotiates the deal and encounters a gunwielding sniffer the two fight as the fire begins to burn sniffer eventually burns to death in the fire scarlett rescues a drug addled tracy from the warehouse before it is consumed by the fire the girls take refuge in a junk yard scarlett goes out to get food for the two of them while tracy recovers from her high having stolen a newspaper scarlett has tracy read the headline proclaiming their deaths to her the girls rejoice in their new found freedom tracy then suggests that she and scarlett run to the mountains seek employment as waitresses and set up house together scarlett reluctantly refuses and the girls argue the two part ways at that moment the police who had the newspaper headline published as a ruse and tracys father arrive on the scene scarlett is shot as she attempts to flee but is not seriously injured the girls then pledge to stick together even if it kills us', 'in 1630s new england a man named william is banished from a puritan plantation alongside his wife katherine daughter thomasin son caleb and fraternal twins mercy and jonas due to a difference in interpretation of the new testament the family leaves the plantation and builds a farm by the edge of a large secluded forest far from the puritan settlement katherine soon gives birth to her fifth child samuel thomasin is playing peekaboo with samuel when he abruptly disappears samuel is then revealed to the viewer but not to his family to have been kidnapped by a witch who crushes his body to pulp and uses it to make a flying ointment6 katherine devastated spends her days crying and praying william takes caleb hunting in the forest and confides to his son that he traded katherines silver cup for hunting supplies on the farm the twins play with the familys goat black phillip claiming that he speaks to them that night katherine questions thomasin about the disappearance of her silver cup while implying thomasin was responsible for the disappearance of samuel after the children retire to bed they overhear their parents discussing sending thomasin away to serve another family early the next morning thomasin finds caleb preparing to hunt in the forest she forces caleb to take her with him by threatening to awaken their father their dog gives chase to a hare and caleb follows on foot as the horse throws thomasin off knocking her unconscious caleb becomes lost in the woods and eventually stumbles upon the disemboweled corpse of his dog he later discovers a mosscovered hovel a seductive young woman appears at the door and lures caleb towards her meanwhile thomasin awakens and reunites with her father who is searching for her and caleb katherine confronts thomasin about taking caleb into the woods and william reluctantly admits that he sold katherines silver cup that night caleb is found outside in the rain naked and delirious from an unknown illness katherine suggests that her sons mysterious ailment is due to witchcraft and prays over him the next day caleb suffers a violent seizure and expels a small apple from his mouth before dying as caleb nears death his parents and thomasin kneel reciting the lords prayer which causes great distress to the twins who insist they cannot remember the words and implore the others to stop the twins then accuse thomasin of witchcraft and in retaliation she reveals their conversations with black phillip enraged william boards both thomasin and the twins inside the goat house after dark the twins and thomasin awaken to find a hideous naked old woman drinking a white goats blood meanwhile katherine is overjoyed by a vision of caleb and samuels return she begins breastfeeding the infant which is revealed to be a black raven pecking at her exposed and bloody breast the next day william finds the stable destroyed the goats eviscerated the twins missing and an unconscious thomasin lying nearby with bloodstained hands as thomasin awakens black phillip gores william before her eyes william dying picks up an axe and contemplates killing the goat but resigns himself to death and quotes from the book of job before being knocked into a woodpile the commotion awakens the unhinged katherine who now blames thomasin for the tragedies that have beset the family and tries to strangle her thomasin grabs a nearby billhook and kills her in selfdefense night falls and thomasin in desperation urges black phillip to speak to her the goat responds in human tongue and suddenly transforms into a man he convinces her to sign her name in his book guiding her hand as she does so and offering her the sights of the world and the luxurious life she wants to live thomasin wanders naked into the forest with black phillip again incarnated as a goat where she discovers a coven of witches dancing around a bonfire the witches begin to levitate and a laughing thomasin joins them above the trees', 'kushi radhika pandit pratham tarun and sharan attend an interview where all the 3 are selected pratham starts loving kushi and proposes her but everyone thinks he was trying to fool her as it was 1 april later she marries her boss abhi dilip raj not knowing that pratham is in love with her at her wedding reception pratham gives her a rose and announces in front of all that he loves her but kushi and abhi ignore the incident as they think that he wants to give a shock to them but he continues to pine for kushi and finally quits his job much to kushis dismay when another woman enters his life the heartbroken pratham decides to start life afresh', 'nick dunn a used car salesman cant close a deal with customers karen winter and arthur markel so he is fired a sympathetic markel has a car lot of his own and offers a job to nick who quits after discovering markels disreputable sales methods nick and wife jane have a financial dilemma when their son falls ill swallowing his pride nick asks for his job back with markel who promotes him to manager but the criminal activity continues until nick becomes convinced that markel has even ordered his henchman smiley ward to murder davenport a detective jane is appalled by nicks new line of work he seeks solace in the company of the beautiful karen but when the cops come to investigate davenports death karen refuses to give nick an alibi now a suspect he tracks down ward who during their struggle at an amusement park falls from a roller coaster to his death nick tries to explain the hotcar racket to the police implicating karen and markel', 'during the second world war jimmy bancroft niall macginnis a fighter pilot just released from hospital and his nurse now his girlfriend hazel broome rosamund john are on a walking tour through the countryside they arrive at the fictional village of lipsbury lea and being keen birdwatchers discover that a pair of tawny pipits which are rarely seen in england are nesting nearby staying in the village they enlist the locals to protect the nesting site until the eggs hatch the villagers do so with great enthusiasm led by the fiery retired colonel bartonbarrington bernard miles and the reverend mr kingsley unfortunately the field where the nest is located known locally as the pinfold is due to be ploughed up by order of the countys war agricultural executive committee the war ag and a delegation to the ministry of agriculture in london fails to get the order rescinded fortunately the minister was bartonbarringtons fag at his public school marlborough and personally intervenes to save the field from being ploughed the eggs duly hatch but not before a plot to steal them on behalf of an unscrupulous dealer is foiled by an alert army corporal a professional ornithologist who is serving nearby']\n"
     ]
    }
   ],
   "source": [
    "def lowercase_texts(X):\n",
    "    # Convert each text in X to lowercase\n",
    "    X_lowercased = [text.lower() for text in X]\n",
    "    \n",
    "    return X_lowercased\n",
    "\n",
    "X_process = lowercase_texts(X_inicial)\n",
    "y_process = y\n",
    "print(X_process[:10])"
   ]
  },
  {
   "cell_type": "markdown",
   "id": "99bcdfb9-5e87-46f5-848a-231825aaed09",
   "metadata": {
    "jp-MarkdownHeadingCollapsed": true
   },
   "source": [
    "## 3.3 Remove Stop Words"
   ]
  },
  {
   "cell_type": "code",
   "execution_count": 11,
   "id": "c27b24ce-4954-480e-8b04-88c10482f93f",
   "metadata": {},
   "outputs": [],
   "source": [
    "# if any preprocessing came first: run this!!!\n",
    "X_inicial = X_process\n",
    "y = y_process"
   ]
  },
  {
   "cell_type": "code",
   "execution_count": 13,
   "id": "2bcb46f0-33b4-4314-a33d-e5d8296bbf89",
   "metadata": {},
   "outputs": [
    {
     "name": "stdout",
     "output_type": "stream",
     "text": [
      "['i', 'me', 'my', 'myself', 'we', 'our', 'ours', 'ourselves', 'you', \"you're\", \"you've\", \"you'll\", \"you'd\", 'your', 'yours', 'yourself', 'yourselves', 'he', 'him', 'his', 'himself', 'she', \"she's\", 'her', 'hers', 'herself', 'it', \"it's\", 'its', 'itself', 'they', 'them', 'their', 'theirs', 'themselves', 'what', 'which', 'who', 'whom', 'this', 'that', \"that'll\", 'these', 'those', 'am', 'is', 'are', 'was', 'were', 'be', 'been', 'being', 'have', 'has', 'had', 'having', 'do', 'does', 'did', 'doing', 'a', 'an', 'the', 'and', 'but', 'if', 'or', 'because', 'as', 'until', 'while', 'of', 'at', 'by', 'for', 'with', 'about', 'against', 'between', 'into', 'through', 'during', 'before', 'after', 'above', 'below', 'to', 'from', 'up', 'down', 'in', 'out', 'on', 'off', 'over', 'under', 'again', 'further', 'then', 'once', 'here', 'there', 'when', 'where', 'why', 'how', 'all', 'any', 'both', 'each', 'few', 'more', 'most', 'other', 'some', 'such', 'no', 'nor', 'not', 'only', 'own', 'same', 'so', 'than', 'too', 'very', 's', 't', 'can', 'will', 'just', 'don', \"don't\", 'should', \"should've\", 'now', 'd', 'll', 'm', 'o', 're', 've', 'y', 'ain', 'aren', \"aren't\", 'couldn', \"couldn't\", 'didn', \"didn't\", 'doesn', \"doesn't\", 'hadn', \"hadn't\", 'hasn', \"hasn't\", 'haven', \"haven't\", 'isn', \"isn't\", 'ma', 'mightn', \"mightn't\", 'mustn', \"mustn't\", 'needn', \"needn't\", 'shan', \"shan't\", 'shouldn', \"shouldn't\", 'wasn', \"wasn't\", 'weren', \"weren't\", 'won', \"won't\", 'wouldn', \"wouldn't\"]\n",
      "['sekhar tarun graduate iim works business manager firm hyderabad meets amar varma siva balaji business party runs company named varma industries germany party sekhar accidentally kills amar car sekhars friend sunil sunil saves erasing evidence sekhar feels guilty even six months goes germany along sunil visit amars family find business bad condition want help reviving business skills priya shriya engaged amar earlier trying level best run business helpless run smoothly sekhar introduces priya offer help revive business remaining story sekhar helps business grow win priyas heart process', 'kris fowles katie cassidy goes springwood diner meet exboyfriend dean russell kellan lutz falls asleep table meets man covered burn scars wearing clawed glove hand burned man cuts deans throat dream reality appears dean cutting throat friend waitress nancy holbrook rooney mara looks kris deans funeral kris sees photograph dean children cannot recall ever knowing dean high school kris begins dream burned man refuses go sleep fear die dreams jesse braun thomas dekker kriss exboyfriend shows keep company sleeps kris meets burned man dreams murdered covered blood jesse runs nancys house learns nancy dreams man freddy krueger jackie earle haley jesse apprehended police suspicion murdering kris killed krueger falls asleep jail cell friends dying nancy begins question everyones connection given none remember teenage years nancy friend quentin smith kyle gallner discover attended badham preschool nancys mother gwen connie britton reluctantly tells nancy quentin gardener preschool fred krueger accused abusing nancy rest kids gwen explains nancy favorite came home one day telling mother hidden space kruegers room things gwen claims krueger skipped town arrested nancy believe attempts track remaining kids school discovers kids killed sleep quentin tries accept nightmares nothing repressed memories falls asleep swim practice witnesses really happened krueger everyones parents hunted krueger burned alive quentin nancy believe krueger wants revenge lying children result insomnia begin sporadically dreaming still awake try stop krueger decide go preschool learn way nancy falls asleep attacked krueger quentin wakes discover pulled piece kruegers sweater dreamworld reality quentin takes nancy hospital steals adrenaline help stay awake preschool quentin uncovers kruegers hidden room evidence proves krueger fact abusing children krueger actually wants revenge telling truth nancy decides way end pull krueger dreams kill reality quentin tries stay awake long enough pull nancy dream krueger falls asleep attacked krueger goes nancy explains intentionally left last would stay awake long enough finally fell asleep would longer able wake quentin uses adrenaline wake nancy pulls krueger reality uses broken blade cut kruegers gloved hand slice throat torches secret room kruegers body inside quentin leave nancy mother return home hospital krueger suddenly appears kills nancys mother pulling body mirror nancy screams', 'cynthia traumatized death baby leaving bathtub accidentally drowned five friends jeff rob lynn paul terri decide go vacation take plane somewhere plagued engine troubles forced land plane lonely deserted island six set camp next morning paul stays camp others set find help come upon large cottage nestled woods entering cottage fooling around bit meet owners elderly married couple going simple names pa group friends welcomed spend night dinner lynn starts smoking pa scolds demands smoke outside later lynn cynthia discover pa child fanny looks like middleaged woman claims 12 night pa throw strict rules cussing forcing girls boys apart prevent premarital sex night passes next morning rob goes walk finds fanny pushing brother woody crudely crafted swing rob invited swing agrees woody climb top chop rope sending rob rocky cliff death group finds robs death mourn loss later lynn cynthia outside lynn talks family bunch freaks fanny overhears cynthia sees lynn leaves consoles fanny reluctantly agrees play games fanny fanny shows cynthia baby thought doll turns remains infant cynthia meets another brother teddy fanny explains cynthia friend meanwhile lynn stumbles upon woody teddy fanny playing jump rope woods lynn insults attacked presumably killed three cynthia tells jeff mummified infant jeff tries console cynthia kiss fanny wants jeff sees becomes jealous confronts two kills jeff stabbing eye sword knight statue cynthia explains fear attacks saying wicked people cynthia flees finishes jeff sewing needles cynthia runs woods finding lynns corpse hanging tree frightened terri cynthia explains everything terri learns paul plane missing woody teddy find girls chase woods terri cynthia find fanny terri reveals gun holds fanny gunpoint forcing help get island show fanny pa demand help get island save daughter pa tells girls boat leads dinky fishermans boat pauls corpse lying axe buried skull cynthia terri flee teddy woody light pauls body fire night comes terri cynthia spend night hollow tree terri cynthia run back cottage find radio attacked woody teddy teddy pursues terri woods fanny toys cynthia terri caught teddy neck snapped teddy rapes terris corpse woody tattletales teddy gets beating cynthia watches horror cynthia eventually breaks pretends one family celebrating fannys birthday dressing pink gown match fanny however flashbacks baby drowning get goes mad bludgeoning fanny death metal washtub murders woody sword confronts stabs death sewing needles finds teddy stabs sickle pa discovers family dead goes outside shot shotgun cynthia taken revenge killed demented family film ends cynthia goes upstairs sits fannys room slowly begins rocking cradle singing soft lullaby', 'four friends gangu jackie shroff abdul nana patekar nihal kumar gaurav gary jaaved jaffrey forms word gang get together start crime business roots built friendship trust succeed criminal goals later attacked local gangster tagdu gulshan grover result gang retaliate tagdu joins lala mukesh khanna criminal conscience pleases abdul work free lala decides join forces girja singh imtiaz khan money gangu disagrees garys sister later killed tagdus men form early humiliation shatters deeply later gang tagdus men embroiled gang war gangu arrested sentenced jail five years gangu released witnesses abdul driving taxi mother well looked nihal gary also started business gangu meets sweetheart sanam juhi chawla proposes marriage subsequently learns friends working girja singh nihal divya ektaa sohini marriage begins fall apart child born handicapped due formers drug addiction later divya commits suicide child incident shatters nihal goes murder spree arrested girja orders abdul kill nihal gives statement court abdul indebted towards friendship kills girja men instead nihal finally abdul gary decides surrender police sake gangu seeks help chief minister raza murad displeases latter arrested even testify plans murder gang help girja tagdu tagdu kills gangus mother order weaken team gang finishes ministers men including tagdu girja process gangu severely injured deathbed asks promise leave crime world forever agree gangu dies gang surrender police till point minister orders police shoot kill kills team', 'crisis middleclass family son falls love fathers mistress family ties stretched breaking point mother fears shell lose son well husband', 'scarlett tatum oneal hardened street kid supports prostitution drug dealing facing charges killing client scarlett brought court court briefly encounters tracy freeman irene cara tracy doctors daughter arrested drug possession resisting arrest tracy admits using racial slurs white officer arrested implying also used racial slurs toward two seated front judge along criminal defendants one defendants begins acting front judge judge orders bailiff restrain defendant slashes bailiffs throat concealed weapon another defendant disarms another bailiff shootout begins scarlett tracy along others courtroom escape police knowing scarlett tracy involved shooting pursue two girls eventually take refuge sewer tracy wants turn back scarlett hand refuses convinced blamed wanting avoid prosecution crimes bullies tracy continuing meanwhile tracys father dr freeman moses gunn unsuccessfully tries convince lt speier george murdock daughter wasnt involved shooting police officer tells dr freeman seven people killed shootout lone police officer manages capture scarlett tracy sewer waiting backup police officer lights cigarette inadvertently sparks explosion sewer gas tracy attempts save officer drowns tracy urges give scarlett refuses telling tracy police officers inclined kill people suspected killing police officers also inadvertently admits illiterate girls emerge sewer two hail cab derelict section town scarlett attempts ditch tracy tracy refuses left know unwilling call father help scarlett threatens tracy broken bottle insults tracy racial slur tracy slams scarlett wall insists scarlett help find place clean scarlett takes apartment sniffer nicholas campbell casual boyfriend produces pornography sells drugs scarlett convinces sniffer allow tracy shower tracy bathes scarlett sniffer argue sniffer admitting set man accused killing scarlett tries convince sniffer run sniffer becomes angry pulls knife scarlett throws apartment sniffer attempts rape tracy shower fights rendering unconscious scarlett goes yet another boyfriend rodney peter fonda seeking help refuse ends slicing face knife meanwhile lt speier makes arrangement rodney assists scarlett tracys apprehension four criminal associates released jail point rodney sends henchmen sniffers apartment scarlett returns sniffers apartment confronted angry tracy found gun apartment scarlett falsely accuses sniffer cutting face steals sniffers drugs scarlett urges tracy flee point rodneys henchmen show shoot door scarlett tracy flee sniffer rodneys henchmen police trail two girls end drug den abandoned warehouse scarlett attempts sell drugs stole sniffer scarlett negotiates drug deal exhausted tracy lies attempts sleep sniffer trailed girls drug den comes upon tracy injects drugs outside rodneys henchman set fire drug den unwilling enter scarlett successfully negotiates deal encounters gunwielding sniffer two fight fire begins burn sniffer eventually burns death fire scarlett rescues drug addled tracy warehouse consumed fire girls take refuge junk yard scarlett goes get food two tracy recovers high stolen newspaper scarlett tracy read headline proclaiming deaths girls rejoice new found freedom tracy suggests scarlett run mountains seek employment waitresses set house together scarlett reluctantly refuses girls argue two part ways moment police newspaper headline published ruse tracys father arrive scene scarlett shot attempts flee seriously injured girls pledge stick together even kills us', '1630s new england man named william banished puritan plantation alongside wife katherine daughter thomasin son caleb fraternal twins mercy jonas due difference interpretation new testament family leaves plantation builds farm edge large secluded forest far puritan settlement katherine soon gives birth fifth child samuel thomasin playing peekaboo samuel abruptly disappears samuel revealed viewer family kidnapped witch crushes body pulp uses make flying ointment6 katherine devastated spends days crying praying william takes caleb hunting forest confides son traded katherines silver cup hunting supplies farm twins play familys goat black phillip claiming speaks night katherine questions thomasin disappearance silver cup implying thomasin responsible disappearance samuel children retire bed overhear parents discussing sending thomasin away serve another family early next morning thomasin finds caleb preparing hunt forest forces caleb take threatening awaken father dog gives chase hare caleb follows foot horse throws thomasin knocking unconscious caleb becomes lost woods eventually stumbles upon disemboweled corpse dog later discovers mosscovered hovel seductive young woman appears door lures caleb towards meanwhile thomasin awakens reunites father searching caleb katherine confronts thomasin taking caleb woods william reluctantly admits sold katherines silver cup night caleb found outside rain naked delirious unknown illness katherine suggests sons mysterious ailment due witchcraft prays next day caleb suffers violent seizure expels small apple mouth dying caleb nears death parents thomasin kneel reciting lords prayer causes great distress twins insist cannot remember words implore others stop twins accuse thomasin witchcraft retaliation reveals conversations black phillip enraged william boards thomasin twins inside goat house dark twins thomasin awaken find hideous naked old woman drinking white goats blood meanwhile katherine overjoyed vision caleb samuels return begins breastfeeding infant revealed black raven pecking exposed bloody breast next day william finds stable destroyed goats eviscerated twins missing unconscious thomasin lying nearby bloodstained hands thomasin awakens black phillip gores william eyes william dying picks axe contemplates killing goat resigns death quotes book job knocked woodpile commotion awakens unhinged katherine blames thomasin tragedies beset family tries strangle thomasin grabs nearby billhook kills selfdefense night falls thomasin desperation urges black phillip speak goat responds human tongue suddenly transforms man convinces sign name book guiding hand offering sights world luxurious life wants live thomasin wanders naked forest black phillip incarnated goat discovers coven witches dancing around bonfire witches begin levitate laughing thomasin joins trees', 'kushi radhika pandit pratham tarun sharan attend interview 3 selected pratham starts loving kushi proposes everyone thinks trying fool 1 april later marries boss abhi dilip raj knowing pratham love wedding reception pratham gives rose announces front loves kushi abhi ignore incident think wants give shock continues pine kushi finally quits job much kushis dismay another woman enters life heartbroken pratham decides start life afresh', 'nick dunn used car salesman cant close deal customers karen winter arthur markel fired sympathetic markel car lot offers job nick quits discovering markels disreputable sales methods nick wife jane financial dilemma son falls ill swallowing pride nick asks job back markel promotes manager criminal activity continues nick becomes convinced markel even ordered henchman smiley ward murder davenport detective jane appalled nicks new line work seeks solace company beautiful karen cops come investigate davenports death karen refuses give nick alibi suspect tracks ward struggle amusement park falls roller coaster death nick tries explain hotcar racket police implicating karen markel', 'second world war jimmy bancroft niall macginnis fighter pilot released hospital nurse girlfriend hazel broome rosamund john walking tour countryside arrive fictional village lipsbury lea keen birdwatchers discover pair tawny pipits rarely seen england nesting nearby staying village enlist locals protect nesting site eggs hatch villagers great enthusiasm led fiery retired colonel bartonbarrington bernard miles reverend mr kingsley unfortunately field nest located known locally pinfold due ploughed order countys war agricultural executive committee war ag delegation ministry agriculture london fails get order rescinded fortunately minister bartonbarringtons fag public school marlborough personally intervenes save field ploughed eggs duly hatch plot steal behalf unscrupulous dealer foiled alert army corporal professional ornithologist serving nearby']\n",
      "Size of the data set: 8041\n"
     ]
    }
   ],
   "source": [
    "def remove_stopwords_from_texts(X, stop_words=None):\n",
    "    if stop_words is None:\n",
    "        print(stopwords.words('english'))\n",
    "        stop_words = set(stopwords.words('english'))  # Load default NLTK stopwords\n",
    "    \n",
    "    # Remove stop words from each text in X\n",
    "    X_cleaned = [' '.join([word for word in text.split() if word.lower() not in stop_words]) for text in X]\n",
    "    \n",
    "    return X_cleaned\n",
    "\n",
    "Stop_words = None\n",
    "#Stop_words=[\"the\",\"is\",\"and\"]\n",
    "X_process = remove_stopwords_from_texts(X_inicial, Stop_words)\n",
    "y_process = y\n",
    "print(X_process[:10])\n",
    "print(f\"Size of the data set: {len(y_process)}\")"
   ]
  },
  {
   "cell_type": "markdown",
   "id": "e13f6d9d-a903-463b-83b2-ec5d5a893c8a",
   "metadata": {
    "jp-MarkdownHeadingCollapsed": true
   },
   "source": [
    "## 3.4 Stemming"
   ]
  },
  {
   "cell_type": "code",
   "execution_count": null,
   "id": "5deb2709-72c8-49e7-a5bd-0af157d6279c",
   "metadata": {},
   "outputs": [],
   "source": [
    "# if any preprocessing came first: run this!!!\n",
    "X_inicial = X_process\n",
    "y = y_process"
   ]
  },
  {
   "cell_type": "code",
   "execution_count": null,
   "id": "8b60fcd9-5406-4aa1-a4a2-4e077c737243",
   "metadata": {},
   "outputs": [],
   "source": [
    "# Pre-processing elements\n",
    "porter_stemmer=PorterStemmer()\n",
    "def processSentence(s):\n",
    "    words=re.split(\"\\\\s+\",s)\n",
    "    stemmed_words=[porter_stemmer.stem(word=w) for w in words]\n",
    "    return ' '.join(stemmed_words)\n",
    "\n",
    "\n",
    "X_process = [processSentence(s) for s in X_inicial]\n",
    "y_process = y\n",
    "print(X_process[:10])\n",
    "print(f\"Size of the data set: {len(y_process)}\")"
   ]
  },
  {
   "cell_type": "markdown",
   "id": "fcb20207-e355-4de8-aa5f-ca2e2fe64bff",
   "metadata": {
    "jp-MarkdownHeadingCollapsed": true
   },
   "source": [
    "## If you imported the data in 2.2 (sentiment analysis) - run this after pre-processing"
   ]
  },
  {
   "cell_type": "code",
   "execution_count": null,
   "id": "7ea85d28-4a34-4ec9-8b8a-4bf0c727bf22",
   "metadata": {},
   "outputs": [],
   "source": [
    "X_process = pd.DataFrame({\n",
    "    'preprocessed_plot': X_process,  # The pre-processed text\n",
    "    'sentiment': data['sentiment']  # Sentiment column\n",
    "})"
   ]
  },
  {
   "cell_type": "markdown",
   "id": "3c0ecc0d-5f44-408d-a26c-58ecc7819448",
   "metadata": {},
   "source": [
    "# 4. Train/Test Split"
   ]
  },
  {
   "cell_type": "code",
   "execution_count": 15,
   "id": "2969ccd1-700b-4294-85f1-1e47eba676c5",
   "metadata": {},
   "outputs": [],
   "source": [
    "# Train/test split\n",
    "X_train, X_test, y_train, y_test = train_test_split(X_process, y_process, test_size=0.2, random_state=42)\n",
    "\n",
    "# This is used to check the original movie plot (before vectorization) - to analyse the model's responses\n",
    "x_test_raw = X_test"
   ]
  },
  {
   "cell_type": "markdown",
   "id": "d8a2b3fd-c9b6-4e5a-be98-629c8769918c",
   "metadata": {
    "jp-MarkdownHeadingCollapsed": true
   },
   "source": [
    "## 3.5 Balancing"
   ]
  },
  {
   "cell_type": "code",
   "execution_count": null,
   "id": "a02ee1c7-1f95-4800-bc16-c9d5d7b4e30c",
   "metadata": {},
   "outputs": [],
   "source": [
    "# To check how balanced is the dataset (oops)\n",
    "y_train.value_counts().plot(kind = 'bar')\n",
    "\n",
    "\n",
    "# Function to replace a word in a sentence with a synonym\n",
    "'''The synonym_replacement function replaces random words in a sentence with their synonyms (if available in WordNet). \n",
    "This changes the text slightly but keeps the meaning intact.'''\n",
    "def synonym_replacement(sentence, n=1):\n",
    "    words = sentence.split()\n",
    "    new_words = words.copy()\n",
    "    # checks if a word has synonyms by looking up WordNet, a lexical database of English.\n",
    "    random_word_list = list(set([word for word in words if wordnet.synsets(word)]))\n",
    "    random.shuffle(random_word_list)\n",
    "    # choses a random number of words to be replaced by their synonyms\n",
    "    num_replacements = random.randint(n, len(random_word_list)) \n",
    "    for random_word in random_word_list[:num_replacements]:\n",
    "        synonyms = wordnet.synsets(random_word)\n",
    "        if synonyms:\n",
    "            synonym = synonyms[0].lemmas()[0].name()  # Choose the first synonym\n",
    "            new_words = [synonym if word == random_word else word for word in new_words]\n",
    "    \n",
    "    return ' '.join(new_words)\n",
    "\n",
    "# Balancing the dataset using augmentation\n",
    "def balance_dataset(X, y, labels):\n",
    "    # Create a dataframe from X and y\n",
    "    df = pd.DataFrame({'plot': X, 'genre': y})\n",
    "    \n",
    "    # Count the instances in each class\n",
    "    class_counts = y.value_counts().to_dict()\n",
    "    max_count = max(class_counts.values())  # Class with the most examples\n",
    "    print(f\"Initial class distribution: {class_counts}\")\n",
    "    \n",
    "    # Augment underrepresented classes\n",
    "    for label in labels:\n",
    "        label_count = class_counts[label]\n",
    "        if label_count < max_count:\n",
    "            gap = max_count - label_count\n",
    "            samples_to_augment = df[df['genre'] == label]['plot'].tolist()\n",
    "            \n",
    "            # Generate synthetic examples using synonym replacement and paraphrasing\n",
    "            new_samples = []\n",
    "            for i in range(gap):\n",
    "                original_sample = random.choice(samples_to_augment)\n",
    "                print(original_sample)\n",
    "                augmented_sample = synonym_replacement(original_sample)\n",
    "                print(augmented_sample)\n",
    "                new_samples.append([augmented_sample, label])\n",
    "            \n",
    "            # Add new samples to the dataframe\n",
    "            new_df = pd.DataFrame(new_samples, columns=['plot', 'genre'])\n",
    "            df = pd.concat([df, new_df])\n",
    "    \n",
    "    print(f\"Balanced class distribution: {df['genre'].value_counts().to_dict()}\")\n",
    "    print(f\"Size of the data set: {df.shape}\")\n",
    "    return df['plot'], df['genre']\n",
    "\n",
    "# Assuming X_inicial and y are defined as follows:\n",
    "# X_inicial = data['plot']  # Movie plots\n",
    "# y = data['genre']  # Movie genres\n",
    "# labels = np.unique(y).tolist()\n",
    "\n",
    "# Call the function to balance the dataset\n",
    "X_train, y_train = balance_dataset(X_train, y_train, labels)\n",
    "\n",
    "# Now you can use X_balanced and y_balanced for training"
   ]
  },
  {
   "cell_type": "markdown",
   "id": "26cfeda2-88e0-4321-a850-5a982c19aad1",
   "metadata": {},
   "source": [
    "# 5. Vectorization"
   ]
  },
  {
   "cell_type": "markdown",
   "id": "cd4c4188-d8a3-4e9c-834f-bde1aee880be",
   "metadata": {
    "jp-MarkdownHeadingCollapsed": true
   },
   "source": [
    "## 5.1 Raw Count"
   ]
  },
  {
   "cell_type": "code",
   "execution_count": null,
   "id": "16192b85-6479-481d-9f2c-af871c1785e3",
   "metadata": {},
   "outputs": [],
   "source": [
    "# Initialization\n",
    "max_features = 50\n",
    "#max_features = 50\n",
    "count_vectorizer = CountVectorizer(ngram_range=(1,3), min_df = 2, max_features=max_features)\n",
    "# Fit and transform the text data\n",
    "X_train = count_vectorizer.fit_transform(X_train)\n",
    "X_test = count_vectorizer.transform(X_test)\n",
    "\n",
    "print(X_train)\n",
    "print(\"Size of the data set: \", X_train.shape)\n",
    "print(X_test)\n",
    "print(\"Size of the data set: \", X_test.shape)"
   ]
  },
  {
   "cell_type": "markdown",
   "id": "3d777469-ec04-4816-ab14-0bc0af73c50a",
   "metadata": {
    "jp-MarkdownHeadingCollapsed": true
   },
   "source": [
    "## 5.2 TF-IDF "
   ]
  },
  {
   "cell_type": "code",
   "execution_count": 17,
   "id": "5ef332f5-f0fd-4114-929d-23de2a7e58be",
   "metadata": {},
   "outputs": [
    {
     "name": "stdout",
     "output_type": "stream",
     "text": [
      "  (0, 79513)\t0.034862310095075066\n",
      "  (0, 132698)\t0.03370561042656726\n",
      "  (0, 66881)\t0.034862310095075066\n",
      "  (0, 54810)\t0.034862310095075066\n",
      "  (0, 100520)\t0.03207533380855239\n",
      "  (0, 54056)\t0.03145553140398535\n",
      "  (0, 64793)\t0.028966525255446726\n",
      "  (0, 46598)\t0.034862310095075066\n",
      "  (0, 4535)\t0.023885526810942893\n",
      "  (0, 16525)\t0.034862310095075066\n",
      "  (0, 42064)\t0.034862310095075066\n",
      "  (0, 120542)\t0.03280840446015075\n",
      "  (0, 153137)\t0.034862310095075066\n",
      "  (0, 80881)\t0.025740485165814224\n",
      "  (0, 72099)\t0.03207533380855239\n",
      "  (0, 20377)\t0.034862310095075066\n",
      "  (0, 18392)\t0.03280840446015075\n",
      "  (0, 72045)\t0.03280840446015075\n",
      "  (0, 154327)\t0.034862310095075066\n",
      "  (0, 12910)\t0.03280840446015075\n",
      "  (0, 51196)\t0.034862310095075066\n",
      "  (0, 86426)\t0.03370561042656726\n",
      "  (0, 14249)\t0.034862310095075066\n",
      "  (0, 72040)\t0.034862310095075066\n",
      "  (0, 95361)\t0.034862310095075066\n",
      "  :\t:\n",
      "  (6431, 19865)\t0.032601385243252456\n",
      "  (6431, 43431)\t0.022866874258593753\n",
      "  (6431, 83419)\t0.013764555492864356\n",
      "  (6431, 37435)\t0.011911782458839372\n",
      "  (6431, 95725)\t0.013525283570762906\n",
      "  (6431, 117407)\t0.010827730446259343\n",
      "  (6431, 153324)\t0.01916386390579329\n",
      "  (6431, 9740)\t0.021237704406382514\n",
      "  (6431, 100686)\t0.02270150989886537\n",
      "  (6431, 23001)\t0.014461296489396928\n",
      "  (6431, 96985)\t0.01918760883581083\n",
      "  (6431, 10562)\t0.018911227530214972\n",
      "  (6431, 101610)\t0.01573224903339448\n",
      "  (6431, 4359)\t0.01788201070813207\n",
      "  (6431, 59735)\t0.013929812037285915\n",
      "  (6431, 104014)\t0.021561535146469756\n",
      "  (6431, 138989)\t0.029712885716290934\n",
      "  (6431, 32753)\t0.010081858926059594\n",
      "  (6431, 139214)\t0.01869880303210522\n",
      "  (6431, 16509)\t0.032790931200698335\n",
      "  (6431, 140011)\t0.027829362486677858\n",
      "  (6431, 46645)\t0.010370132932141956\n",
      "  (6431, 76287)\t0.010215199699650186\n",
      "  (6431, 128853)\t0.020058387435045164\n",
      "  (6431, 19851)\t0.02055655884912131\n",
      "Size of the data set:  (6432, 157684)\n",
      "  (0, 153683)\t0.04032173966401695\n",
      "  (0, 153399)\t0.13629887986392067\n",
      "  (0, 153395)\t0.12866384214993437\n",
      "  (0, 151486)\t0.07330485022580197\n",
      "  (0, 146209)\t0.13177660727995746\n",
      "  (0, 140615)\t0.0616191590509298\n",
      "  (0, 138972)\t0.0972369212223103\n",
      "  (0, 138255)\t0.1841458791959752\n",
      "  (0, 137007)\t0.4439960684789563\n",
      "  (0, 136658)\t0.06761252043295309\n",
      "  (0, 135799)\t0.057994066584894685\n",
      "  (0, 133158)\t0.0516082953240931\n",
      "  (0, 132787)\t0.11099901711973907\n",
      "  (0, 132673)\t0.09416006629279337\n",
      "  (0, 131180)\t0.11587455599880715\n",
      "  (0, 122249)\t0.13629887986392067\n",
      "  (0, 122183)\t0.0584687970902202\n",
      "  (0, 116744)\t0.104279730328745\n",
      "  (0, 116728)\t0.052751145477548285\n",
      "  (0, 116077)\t0.09680621788114052\n",
      "  (0, 115026)\t0.08488236346177665\n",
      "  (0, 114869)\t0.047044143430892436\n",
      "  (0, 114560)\t0.08656072278391988\n",
      "  (0, 107809)\t0.08354777064632164\n",
      "  (0, 105704)\t0.10998449166717061\n",
      "  :\t:\n",
      "  (1608, 23805)\t0.04349980644936067\n",
      "  (1608, 21036)\t0.044059457621273466\n",
      "  (1608, 20841)\t0.08610913262181845\n",
      "  (1608, 20810)\t0.06684919909816742\n",
      "  (1608, 18510)\t0.07012551457207676\n",
      "  (1608, 17520)\t0.07234159340737342\n",
      "  (1608, 17511)\t0.049641120272311795\n",
      "  (1608, 15290)\t0.050800330082930084\n",
      "  (1608, 12098)\t0.05797198014456798\n",
      "  (1608, 11974)\t0.06260080127675757\n",
      "  (1608, 9797)\t0.02842742249115546\n",
      "  (1608, 9022)\t0.08325211009842512\n",
      "  (1608, 9020)\t0.056524889879534315\n",
      "  (1608, 8981)\t0.0672684920486834\n",
      "  (1608, 8558)\t0.059214997881025064\n",
      "  (1608, 8340)\t0.04491050734517865\n",
      "  (1608, 7981)\t0.03226218539035815\n",
      "  (1608, 7846)\t0.03942781473021421\n",
      "  (1608, 7793)\t0.07922536301459594\n",
      "  (1608, 5199)\t0.03779426776735525\n",
      "  (1608, 4805)\t0.07769446482372347\n",
      "  (1608, 4359)\t0.042615773580601625\n",
      "  (1608, 2325)\t0.06199872722839715\n",
      "  (1608, 2235)\t0.04091866778507456\n",
      "  (1608, 197)\t0.0763683404912026\n",
      "Size of the data set:  (1609, 157684)\n"
     ]
    }
   ],
   "source": [
    "# Initialization\n",
    "max_features= None\n",
    "#max_features=50\n",
    "tfidf_vectorizer = TfidfVectorizer(ngram_range=(1,3), min_df = 2, max_features=max_features)\n",
    "# Fit and transform the text data\n",
    "X_train = tfidf_vectorizer.fit_transform(X_train)\n",
    "X_test = tfidf_vectorizer.transform(X_test)\n",
    "print(X_train)\n",
    "print(\"Size of the data set: \", X_train.shape)\n",
    "print(X_test)\n",
    "print(\"Size of the data set: \", X_test.shape)"
   ]
  },
  {
   "cell_type": "markdown",
   "id": "97b41af3-7b2d-4671-8bea-8999dfd0abc2",
   "metadata": {
    "jp-MarkdownHeadingCollapsed": true
   },
   "source": [
    "### 5.2.1 TF-IDF with \"!\""
   ]
  },
  {
   "cell_type": "code",
   "execution_count": null,
   "id": "79828c94-ff7f-452c-b80c-990e1dfa7663",
   "metadata": {},
   "outputs": [],
   "source": [
    "# Use TfidfVectorizer with a custom token pattern to include punctuation\n",
    "tfidf_vectorizer = TfidfVectorizer(ngram_range=(1, 3), min_df=2, token_pattern=r'(?u)\\b\\w+\\b|[!]')\n",
    "\n",
    "# Fit and transform the text data\n",
    "X_train = tfidf_vectorizer.fit_transform(X_train)\n",
    "X_test = tfidf_vectorizer.transform(X_test)\n",
    "print(X_train)\n",
    "print(\"Size of the data set: \", X_train.shape)\n",
    "print(X_test)\n",
    "print(\"Size of the data set: \", X_test.shape)"
   ]
  },
  {
   "cell_type": "markdown",
   "id": "b583e928-c1b7-413b-8e90-d5e7fdc80fe7",
   "metadata": {},
   "source": [
    "### 5.2.2 TF-IDF if you imported the data in 2.2 (sentiment analysis)"
   ]
  },
  {
   "cell_type": "code",
   "execution_count": null,
   "id": "14213f41-3c4c-437c-ba47-5357a4682b5b",
   "metadata": {},
   "outputs": [],
   "source": [
    "from sklearn.feature_extraction.text import TfidfVectorizer\n",
    "import numpy as np\n",
    "from scipy.sparse import hstack  # To combine sparse matrices\n",
    "\n",
    "# Initialize TF-IDF Vectorizer\n",
    "max_features = None\n",
    "tfidf_vectorizer = TfidfVectorizer(ngram_range=(1, 3), min_df=2, max_features=max_features)\n",
    "\n",
    "# Fit and transform the preprocessed plot for the training data\n",
    "X_train_tfidf = tfidf_vectorizer.fit_transform(X_train['preprocessed_plot'])\n",
    "\n",
    "# Transform the preprocessed plot for the test data\n",
    "X_test_tfidf = tfidf_vectorizer.transform(X_test['preprocessed_plot'])\n",
    "\n",
    "# Convert the sentiment column into a 2D array (needed to concatenate with sparse matrices)\n",
    "X_train_sentiment = np.array(X_train['sentiment']).reshape(-1, 1)\n",
    "X_test_sentiment = np.array(X_test['sentiment']).reshape(-1, 1)\n",
    "\n",
    "# Combine the TF-IDF features and sentiment for the training and test sets\n",
    "X_train_combined = hstack([X_train_tfidf, X_train_sentiment])\n",
    "X_test_combined = hstack([X_test_tfidf, X_test_sentiment])\n",
    "\n",
    "# Now you can use X_train_combined and X_test_combined for model training\n",
    "print(X_train_combined)\n",
    "print(\"Size of the training set: \", X_train_combined.shape)\n",
    "print(X_test_combined)\n",
    "print(\"Size of the test set: \", X_test_combined.shape)"
   ]
  },
  {
   "cell_type": "markdown",
   "id": "d3d548c4-f04d-4342-a84a-a193aad215a6",
   "metadata": {},
   "source": [
    "# 6. Classifiers"
   ]
  },
  {
   "cell_type": "markdown",
   "id": "afc17d2e-5873-4bab-97cc-190c927df743",
   "metadata": {
    "jp-MarkdownHeadingCollapsed": true
   },
   "source": [
    "## 6.1 Naive Bayes"
   ]
  },
  {
   "cell_type": "code",
   "execution_count": null,
   "id": "a203664d-ed77-4019-a023-1b39d8177caa",
   "metadata": {},
   "outputs": [],
   "source": [
    "print(\"==== MultinomialNB ====\")\n",
    "clf = MultinomialNB()\n",
    "\n",
    "clf.fit(X_train, y_train)\n",
    "x_pred=clf.predict(X_test)\n",
    "print(classification_report(y_pred=x_pred, y_true=y_test, labels = labels, zero_division=1.))"
   ]
  },
  {
   "cell_type": "markdown",
   "id": "d369fa86-0896-49f4-bc81-ad35983438d4",
   "metadata": {},
   "source": [
    "## 6.2 Suport Vector Machine"
   ]
  },
  {
   "cell_type": "markdown",
   "id": "2ff08de1-6bb9-451b-8052-7e58c95a2cff",
   "metadata": {},
   "source": [
    "### With detailed evaluation metrics"
   ]
  },
  {
   "cell_type": "code",
   "execution_count": null,
   "id": "8887e226-d1ee-4233-bad3-25edfe174b46",
   "metadata": {},
   "outputs": [
    {
     "name": "stdout",
     "output_type": "stream",
     "text": [
      "==== SVM ====\n"
     ]
    }
   ],
   "source": [
    "# === Train SVM model ===\n",
    "print(\"==== SVM ====\")\n",
    "clf = svm.SVC(kernel='linear')\n",
    "\n",
    "# Fit the model\n",
    "clf.fit(X_train, y_train)\n",
    "\n",
    "# Predict using the test set\n",
    "x_pred = clf.predict(X_test)\n",
    "\n",
    "# List of genres (labels)\n",
    "labels = np.unique(y_test)\n",
    "\n",
    "# === Classification Report ===\n",
    "# Print overall accuracy, precision, recall, and f1-score by genre\n",
    "print(\"\\nClassification Report:\")\n",
    "report = classification_report(y_pred=x_pred, y_true=y_test, labels=labels, zero_division=1, output_dict=True)\n",
    "report_df = pd.DataFrame(report).transpose()\n",
    "print(report_df)\n",
    "\n",
    "# === Overall Model Metrics ===\n",
    "overall_accuracy = accuracy_score(y_test, x_pred)\n",
    "overall_precision = report_df.loc['weighted avg']['precision']\n",
    "overall_recall = report_df.loc['weighted avg']['recall']\n",
    "overall_f1 = report_df.loc['weighted avg']['f1-score']\n",
    "\n",
    "print(\"\\nOverall Model Performance:\")\n",
    "print(f\"Accuracy: {overall_accuracy:.2%}\")\n",
    "print(f\"Precision (weighted avg): {overall_precision:.2%}\")\n",
    "print(f\"Recall (weighted avg): {overall_recall:.2%}\")\n",
    "print(f\"F1-score (weighted avg): {overall_f1:.2%}\")\n",
    "\n",
    "\n",
    "# === Confusion Matrix ===\n",
    "print(\"\\nConfusion Matrix:\")\n",
    "conf_matrix = confusion_matrix(y_test, x_pred, labels=labels)\n",
    "print(pd.DataFrame(conf_matrix, index=labels, columns=labels))\n",
    "\n",
    "# Assuming y_test and x_pred are defined\n",
    "if isinstance(y_test, pd.Series):\n",
    "    y_test_array = y_test.to_numpy()  # Convert to NumPy array if it's a Series\n",
    "else:\n",
    "    y_test_array = y_test  # If it's already a NumPy array\n",
    "\n",
    "# Calculate accuracy for each genre\n",
    "for genre in labels:\n",
    "    genre_idx = np.where(y_test_array == genre)[0]  # Indices for this genre in y_test\n",
    "    genre_accuracy = accuracy_score(y_test_array[genre_idx], x_pred[genre_idx])  # Calculate accuracy for this genre\n",
    "    print(f\"{genre}: {genre_accuracy:.2%}\")\n",
    "\n",
    "disp = ConfusionMatrixDisplay(confusion_matrix=conf_matrix, display_labels=clf.classes_)\n",
    "disp.plot()\n",
    "disp.ax_.set_xticklabels(disp.ax_.get_xticklabels(), rotation=90, ha='right')\n",
    "plt.show()"
   ]
  },
  {
   "cell_type": "markdown",
   "id": "22d63602-f145-4a38-84a0-91595f6c225d",
   "metadata": {
    "jp-MarkdownHeadingCollapsed": true
   },
   "source": [
    "### Check examples where the model fails"
   ]
  },
  {
   "cell_type": "code",
   "execution_count": null,
   "id": "cf4d1f9e-8b64-498e-87d5-2ed973a31d52",
   "metadata": {},
   "outputs": [],
   "source": [
    "# === Example of Misclassified Plot ===\n",
    "misclassified_indices = np.where(y_test != x_pred)[0]\n",
    "\n",
    "if len(misclassified_indices) > 0:\n",
    "    # Get the first misclassified example\n",
    "    first_misclassified_index = misclassified_indices[70]\n",
    "    misclassified_plot = x_test_raw[first_misclassified_index]  # Assuming X_test_raw contains the raw plot texts\n",
    "    true_genre = y_test.iloc[first_misclassified_index]\n",
    "    predicted_genre = x_pred[first_misclassified_index]\n",
    "\n",
    "    print(\"\\nExample of Misclassification:\")\n",
    "    print(f\"Plot: {misclassified_plot}\")\n",
    "    print(f\"Predicted Genre: {predicted_genre}\")\n",
    "    print(f\"True Genre: {true_genre}\")\n",
    "else:\n",
    "    print(\"\\nNo misclassifications found.\")"
   ]
  },
  {
   "cell_type": "markdown",
   "id": "4c845c83-9477-4509-ad9a-6aa114910a56",
   "metadata": {
    "jp-MarkdownHeadingCollapsed": true
   },
   "source": [
    "## 6.3 K-Nearest Neighbours"
   ]
  },
  {
   "cell_type": "code",
   "execution_count": null,
   "id": "daf5c288-813f-4ab6-a2aa-4115ba838fbb",
   "metadata": {},
   "outputs": [],
   "source": [
    "print(\"==== KNN ====\")\n",
    "clf = KNeighborsClassifier()  \n",
    "\n",
    "clf.fit(X_train, y_train)\n",
    "x_pred=clf.predict(X_test)\n",
    "print(classification_report(y_pred=x_pred, y_true=y_test, labels = labels, zero_division=1.))"
   ]
  },
  {
   "cell_type": "markdown",
   "id": "a8c37836-d954-4677-923d-95b9a84a60c2",
   "metadata": {
    "jp-MarkdownHeadingCollapsed": true
   },
   "source": [
    "## 6.4 Decision Tree"
   ]
  },
  {
   "cell_type": "code",
   "execution_count": null,
   "id": "f2cee149-e3b8-45bb-ace9-8f201e31ea76",
   "metadata": {},
   "outputs": [],
   "source": [
    "print(\"==== DT ====\")\n",
    "clf = DecisionTreeClassifier()  \n",
    "\n",
    "clf.fit(X_train, y_train)\n",
    "x_pred=clf.predict(X_test)\n",
    "print(classification_report(y_pred=x_pred, y_true=y_test, labels = labels, zero_division=1.))"
   ]
  },
  {
   "cell_type": "markdown",
   "id": "f77394b9-6af8-41e5-9aa5-665e096c2d14",
   "metadata": {
    "jp-MarkdownHeadingCollapsed": true
   },
   "source": [
    "# 7. Hyperparameter Tuning (SVM model)"
   ]
  },
  {
   "cell_type": "code",
   "execution_count": null,
   "id": "a7f5203d-1589-4ee0-bcc7-e5471580729b",
   "metadata": {},
   "outputs": [],
   "source": [
    "# Define the SVM model\n",
    "clf = svm.SVC(kernel='linear')\n",
    "\n",
    "# Define the parameter grid to sample from\n",
    "param_dist = {\n",
    "    'C': np.logspace(-3, 3, 7),  # Regularization parameter\n",
    "    'gamma': ['scale', 'auto'] + list(np.logspace(-3, 3, 7)),  # Kernel coefficient\n",
    "    'class_weight': [None, 'balanced'],  # Class weight\n",
    "}\n",
    "\n",
    "# Set up the random search with cross-validation\n",
    "random_search = RandomizedSearchCV(\n",
    "    clf, \n",
    "    param_distributions=param_dist,\n",
    "    n_iter=50,  # Number of parameter settings to try\n",
    "    scoring='accuracy',  # Metric for evaluation\n",
    "    cv=5,  # Number of cross-validation folds\n",
    "    verbose=1,  # Verbosity level\n",
    "    n_jobs=-1,  # Use all available cores\n",
    "    random_state=42  # For reproducibility\n",
    ")\n",
    "\n",
    "# Fit the random search model\n",
    "random_search.fit(X_train, y_train)\n",
    "\n",
    "# Get the best estimator\n",
    "best_model = random_search.best_estimator_\n",
    "\n",
    "# Predict using the best model\n",
    "x_pred = best_model.predict(X_test)\n",
    "\n",
    "# Print classification report\n",
    "print(\"==== SVM with Random Search ====\")\n",
    "print(classification_report(y_true=y_test, y_pred=x_pred, labels=labels, zero_division=1))\n",
    "\n",
    "# Print the best hyperparameters\n",
    "print(\"Best hyperparameters found:\")\n",
    "print(random_search.best_params_)"
   ]
  }
 ],
 "metadata": {
  "kernelspec": {
   "display_name": "Python 3 (ipykernel)",
   "language": "python",
   "name": "python3"
  },
  "language_info": {
   "codemirror_mode": {
    "name": "ipython",
    "version": 3
   },
   "file_extension": ".py",
   "mimetype": "text/x-python",
   "name": "python",
   "nbconvert_exporter": "python",
   "pygments_lexer": "ipython3",
   "version": "3.12.3"
  }
 },
 "nbformat": 4,
 "nbformat_minor": 5
}
